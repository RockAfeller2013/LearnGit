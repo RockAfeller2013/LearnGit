{
  "nbformat": 4,
  "nbformat_minor": 0,
  "metadata": {
    "colab": {
      "provenance": [],
      "toc_visible": true,
      "authorship_tag": "ABX9TyN8LU2PDzfpK7JFaCRS4o4e",
      "include_colab_link": true
    },
    "kernelspec": {
      "name": "python3",
      "display_name": "Python 3"
    },
    "language_info": {
      "name": "python"
    }
  },
  "cells": [
    {
      "cell_type": "markdown",
      "metadata": {
        "id": "view-in-github",
        "colab_type": "text"
      },
      "source": [
        "<a href=\"https://colab.research.google.com/github/RockAfeller2013/LearnGit/blob/main/Git.ipynb\" target=\"_parent\"><img src=\"https://colab.research.google.com/assets/colab-badge.svg\" alt=\"Open In Colab\"/></a>"
      ]
    },
    {
      "cell_type": "markdown",
      "source": [
        "# Git Learning in Google Colab using Command-Line\n",
        "\n",
        "\n",
        "```\n",
        "# This is formatted as code\n",
        "```\n",
        "\n"
      ],
      "metadata": {
        "id": "-tirrBsEIx0h"
      }
    },
    {
      "cell_type": "markdown",
      "source": [
        ">I use GitHub regularly, mainly to access open-source projects. However, I rarely need to use it as my own repository for code or version control, or for open-source collaboration on my own projects. That said, I do contribute bug fixes to other projects.\n",
        "\n",
        ">This guide provides a quick overview of how to use GitHub effectively for your own projects and leverage its collaboration features to get help from others in improving your work.\n",
        "\n",
        "> It’s intended for non-software developers and individuals who want to use Git for purposes like Infrastructure as Code, Google Notebooks, and other use cases beyond traditional software development.\n",
        "\n",
        "> For me, this is a quick recap of commands that I can refer to when I need to come back and get things done efficiently\n",
        "\n",
        "> I am using Google Collab, as it is easy to access, all you need is your own Github account. This is still in development. I will uploaded this to Github as well."
      ],
      "metadata": {
        "id": "TBe8EPPgRIDd"
      }
    },
    {
      "cell_type": "markdown",
      "source": [
        "## Install Github\n",
        "\n",
        "https://github.com/apps/desktop"
      ],
      "metadata": {
        "id": "o1RKHDP_KD36"
      }
    },
    {
      "cell_type": "code",
      "source": [
        "# Section 1: Setup\n",
        "# Installing Git in Colab\n",
        "!sudo apt-get install git -y\n",
        "!sudo apt install gh\n",
        "\n",
        "# brew install gh\n",
        "\n",
        "# Check Git version\n",
        "!git --version"
      ],
      "metadata": {
        "colab": {
          "base_uri": "https://localhost:8080/"
        },
        "id": "U2bU7fZPKXp5",
        "outputId": "aac4ef6e-ac4f-4fb9-d5fe-f1cd49e33bba"
      },
      "execution_count": null,
      "outputs": [
        {
          "output_type": "stream",
          "name": "stdout",
          "text": [
            "Reading package lists... Done\n",
            "Building dependency tree... Done\n",
            "Reading state information... Done\n",
            "git is already the newest version (1:2.34.1-1ubuntu1.12).\n",
            "0 upgraded, 0 newly installed, 0 to remove and 34 not upgraded.\n",
            "Reading package lists... Done\n",
            "Building dependency tree... Done\n",
            "Reading state information... Done\n",
            "gh is already the newest version (2.4.0+dfsg1-2).\n",
            "0 upgraded, 0 newly installed, 0 to remove and 34 not upgraded.\n",
            "git version 2.34.1\n"
          ]
        }
      ]
    },
    {
      "cell_type": "code",
      "source": [
        "# Install GitHub CLI (gh)\n",
        "!gh auth login"
      ],
      "metadata": {
        "id": "lzYQI50kMPE9"
      },
      "execution_count": null,
      "outputs": []
    },
    {
      "cell_type": "markdown",
      "source": [
        " ## GitHub Personal Access Token (PAT) Usage via Command Line\n",
        "\n",
        " 1. Generate a Personal Access Token\n",
        " - Go to: https://github.com/settings/tokens\n",
        " - Generate a token with appropriate scopes (e.g., 'repo', 'workflow')\n",
        "\n",
        " 2. Use the PAT When Cloning\n",
        " Example:\n",
        " git clone https://<your-username>@github.com/<user-or-org>/<repo>.git\n",
        " When prompted for a password, paste your Personal Access Token (PAT).\n",
        "\n",
        " 3. Use the PAT When Pushing or Pulling\n",
        " If your remote is already set:\n",
        " git push origin main\n",
        " When asked for your GitHub credentials:\n",
        " - Username: your GitHub username\n",
        " - Password: your Personal Access Token (PAT)\n",
        "\n",
        " 4. Cache the PAT Using Credential Helper (Optional but Recommended)\n",
        " To cache temporarily:\n",
        " git config --global credential.helper cache\n",
        "\n",
        " To store permanently:\n",
        " git config --global credential.helper store\n",
        " (This saves credentials in plaintext at ~/.git-credentials)\n",
        "\n",
        " 5. (Alternative) Embed PAT in URL (Not Secure)\n",
        " Example:\n",
        " git clone https://<username>:<your_token>@github.com/<user-or-org>/<repo>.git\n",
        " ⚠️ Not recommended because your token may get stored in your shell history\n"
      ],
      "metadata": {
        "id": "TDAASl2-Mh2C"
      }
    },
    {
      "cell_type": "code",
      "source": [
        "git config --global credential.helper cache\n",
        "git config --global credential.helper store"
      ],
      "metadata": {
        "id": "nglUwbXzMso4"
      },
      "execution_count": null,
      "outputs": []
    },
    {
      "cell_type": "markdown",
      "source": [
        "## Github commands"
      ],
      "metadata": {
        "id": "e2IjKtgPQpAU"
      }
    },
    {
      "cell_type": "code",
      "source": [
        "git@github.com:RockAfeller2013/LearnGit.git"
      ],
      "metadata": {
        "id": "ku9nlRboTMjM"
      },
      "execution_count": null,
      "outputs": []
    },
    {
      "cell_type": "code",
      "source": [
        "echo \"# LearnGit\" >> README.md\n",
        "git init\n",
        "git add README.md\n",
        "git commit -m \"first commit\"\n",
        "git branch -M main\n",
        "git remote add origin git@github.com:RockAfeller2013/LearnGit.git\n",
        "git push -u origin main"
      ],
      "metadata": {
        "id": "Aq1vTRZ-TZHj"
      },
      "execution_count": null,
      "outputs": []
    },
    {
      "cell_type": "code",
      "source": [
        "git remote add origin git@github.com:RockAfeller2013/LearnGit.git\n",
        "git branch -M main\n",
        "git push -u origin main"
      ],
      "metadata": {
        "id": "TI8m4KlZTZng"
      },
      "execution_count": null,
      "outputs": []
    },
    {
      "cell_type": "code",
      "source": [
        "echo \"# LearnGit\" >> README.md\n",
        "git init\n",
        "git add README.md\n",
        "git commit -m \"first commit\"\n",
        "git branch -M main\n",
        "git remote add origin https://github.com/RockAfeller2013/LearnGit.git\n",
        "git push -u origin main"
      ],
      "metadata": {
        "id": "oz6c9YK4TNMO"
      },
      "execution_count": null,
      "outputs": []
    },
    {
      "cell_type": "code",
      "source": [
        "git remote add origin https://github.com/RockAfeller2013/LearnGit.git\n",
        "git branch -M main\n",
        "git push -u origin main"
      ],
      "metadata": {
        "id": "Tgn_kL9jTVmC"
      },
      "execution_count": null,
      "outputs": []
    },
    {
      "cell_type": "code",
      "execution_count": null,
      "metadata": {
        "id": "rQPPiaqXIrIV"
      },
      "outputs": [],
      "source": [
        "# Section 2: Configuring Git\n",
        "!git config --global user.name \"Your Name\"\n",
        "!git config --global user.email \"you@example.com\"\n",
        "!git config --list\n",
        "\n",
        "\n",
        "# Optional: Set Git to Use GitHub CLI Credentials\n",
        "git config --global credential.helper cache\n",
        "# or for permanent storage (be careful on shared machines)\n",
        "git config --global credential.helper store\n",
        "\n",
        "\n",
        "# Section 3: Initializing a Git Repository\n",
        "!mkdir my-git-repo\n",
        "%cd my-git-repo\n",
        "!git init\n",
        "\n",
        "# Section 4: Creating Files and Committing\n",
        "!echo \"# Hello Git\" > README.md\n",
        "!git status\n",
        "!git add README.md\n",
        "!git commit -m \"Initial commit with README\"\n",
        "\n",
        "# Section 5: Making Changes and Viewing History\n",
        "!echo \"Adding a new line\" >> README.md\n",
        "!git status\n",
        "!git diff\n",
        "!git add README.md\n",
        "!git commit -m \"Updated README with a new line\"\n",
        "!git log --oneline\n",
        "\n",
        "# Section 6: Branching and Merging\n",
        "!git branch new-feature\n",
        "!git checkout new-feature\n",
        "!echo \"Feature line\" >> feature.txt\n",
        "!git add feature.txt\n",
        "!git commit -m \"Add feature.txt\"\n",
        "!git checkout main\n",
        "!git merge new-feature\n",
        "\n",
        "# Section 7: Connecting to Remote (Simulated)\n",
        "# Note: Real pushing requires authentication, not practical in Colab.\n",
        "# We'll simulate adding a remote\n",
        "!git remote add origin https://github.com/yourusername/your-repo.git\n",
        "!git remote -v\n",
        "\n",
        "# Section 8: Clean Up\n",
        "# Return to root and remove the repo folder\n",
        "%cd /\n",
        "!rm -rf my-git-repo\n",
        "\n",
        "# Use Git Seamlessly After\n",
        "git clone https://github.com/yourusername/your-repo.git\n",
        "cd your-repo\n",
        "git pull\n",
        "git push"
      ]
    },
    {
      "cell_type": "markdown",
      "source": [
        "## Github Verisioning"
      ],
      "metadata": {
        "id": "v3VwxF3YOaPY"
      }
    },
    {
      "cell_type": "code",
      "source": [
        "!git status\n",
        "!git add .\n",
        "!git commit -m \"Added example.txt from Google Colab\"\n",
        "!git push origin main  # or 'master' depending on your default branch\n",
        "!git checkout -b new-feature\n",
        "!git checkout main\n",
        "!git merge new-feature\n",
        "!git log --oneline\n",
        "!git pull origin main\n",
        "!git branch"
      ],
      "metadata": {
        "id": "RwMiscpwOis1"
      },
      "execution_count": null,
      "outputs": []
    },
    {
      "cell_type": "markdown",
      "source": [
        "## Try it your self"
      ],
      "metadata": {
        "id": "k2ycVLWEQ-ey"
      }
    },
    {
      "cell_type": "code",
      "source": [
        "# ============================\n",
        "# 🔧 Step 1: Set Up Git\n",
        "# ============================\n",
        "!git config --global user.name \"Your Name\"\n",
        "!git config --global user.email \"youremail@example.com\""
      ],
      "metadata": {
        "id": "DH5L7h20Q2jj"
      },
      "execution_count": null,
      "outputs": []
    },
    {
      "cell_type": "code",
      "source": [
        "# ============================\n",
        "# 📁 Step 2: Create Local Repo\n",
        "# ============================\n",
        "!mkdir my-git-repo\n",
        "%cd my-git-repo\n",
        "!git init"
      ],
      "metadata": {
        "id": "_E-PRXCGP5xG"
      },
      "execution_count": null,
      "outputs": []
    },
    {
      "cell_type": "code",
      "source": [
        "# ============================\n",
        "# 📝 Step 3: Create a File\n",
        "# ============================\n",
        "with open(\"version1.txt\", \"w\") as f:\n",
        "    f.write(\"Version 1 of this file.\")"
      ],
      "metadata": {
        "id": "E4aO7ThfP-ua"
      },
      "execution_count": null,
      "outputs": []
    },
    {
      "cell_type": "code",
      "source": [
        "# ============================\n",
        "# ✅ Step 4: Add & Commit\n",
        "# ============================\n",
        "!git status\n",
        "!git add version1.txt\n",
        "!git commit -m \"Initial commit with version1.txt\""
      ],
      "metadata": {
        "id": "N0Q-6EkHQIh2"
      },
      "execution_count": null,
      "outputs": []
    },
    {
      "cell_type": "code",
      "source": [
        "# ============================\n",
        "# 🛠️ Step 5: Edit for Version 2\n",
        "# ============================\n",
        "with open(\"version1.txt\", \"a\") as f:\n",
        "    f.write(\"\\nAdded content for version 2.\")\n",
        "\n",
        "!git add version1.txt\n",
        "!git commit -m \"Updated file to version 2\""
      ],
      "metadata": {
        "id": "xjjdDxHdQA1m"
      },
      "execution_count": null,
      "outputs": []
    },
    {
      "cell_type": "code",
      "source": [
        "# ============================\n",
        "# 📜 Step 6: View Git History\n",
        "# ============================\n",
        "!git log --oneline"
      ],
      "metadata": {
        "id": "ksQckzOVQMFl"
      },
      "execution_count": null,
      "outputs": []
    },
    {
      "cell_type": "code",
      "source": [
        "# ============================\n",
        "# 🌿 Step 7: Create a Branch\n",
        "# ============================\n",
        "!git checkout -b feature-branch\n",
        "\n",
        "# Edit in new branch\n",
        "with open(\"version1.txt\", \"a\") as f:\n",
        "    f.write(\"\\nThis is content from feature-branch.\")\n",
        "\n",
        "!git add version1.txt\n",
        "!git commit -m \"Added line from feature branch\""
      ],
      "metadata": {
        "id": "QlURq0I3QPvi"
      },
      "execution_count": null,
      "outputs": []
    },
    {
      "cell_type": "code",
      "source": [
        "# ============================\n",
        "# 🔁 Step 8: Merge Branch\n",
        "# ============================\n",
        "!git checkout main\n",
        "!git merge feature-branch"
      ],
      "metadata": {
        "id": "-vjXBPbTQRpk"
      },
      "execution_count": null,
      "outputs": []
    },
    {
      "cell_type": "code",
      "source": [
        "# ============================\n",
        "# 🔐 Step 9: Push to GitHub\n",
        "# ============================\n",
        "# REPLACE <TOKEN>, <USERNAME>, <REPO>\n",
        "from getpass import getpass\n",
        "token = getpass('Enter your GitHub token: ')\n",
        "repo_url = f\"https://{token}@github.com/<USERNAME>/<REPO>.git\"\n",
        "\n",
        "# Push to GitHub (run once to set origin)\n",
        "!git remote add origin {repo_url}\n",
        "!git branch -M main\n",
        "!git push -u origin main"
      ],
      "metadata": {
        "id": "75RlDRMrQTtk"
      },
      "execution_count": null,
      "outputs": []
    }
  ]
}